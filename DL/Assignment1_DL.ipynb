{
 "cells": [
  {
   "cell_type": "code",
   "execution_count": 1,
   "id": "4b1fd9d2",
   "metadata": {},
   "outputs": [
    {
     "name": "stdout",
     "output_type": "stream",
     "text": [
      "Requirement already satisfied: tensorflow in c:\\users\\desineni\\anaconda3\\lib\\site-packages (2.10.0)\n",
      "Requirement already satisfied: astunparse>=1.6.0 in c:\\users\\desineni\\anaconda3\\lib\\site-packages (from tensorflow) (1.6.3)\n",
      "Requirement already satisfied: gast<=0.4.0,>=0.2.1 in c:\\users\\desineni\\anaconda3\\lib\\site-packages (from tensorflow) (0.4.0)\n",
      "Requirement already satisfied: numpy>=1.20 in c:\\users\\desineni\\anaconda3\\lib\\site-packages (from tensorflow) (1.21.5)\n",
      "Requirement already satisfied: keras<2.11,>=2.10.0 in c:\\users\\desineni\\anaconda3\\lib\\site-packages (from tensorflow) (2.10.0)\n",
      "Requirement already satisfied: keras-preprocessing>=1.1.1 in c:\\users\\desineni\\anaconda3\\lib\\site-packages (from tensorflow) (1.1.2)\n",
      "Requirement already satisfied: google-pasta>=0.1.1 in c:\\users\\desineni\\anaconda3\\lib\\site-packages (from tensorflow) (0.2.0)\n",
      "Requirement already satisfied: wrapt>=1.11.0 in c:\\users\\desineni\\anaconda3\\lib\\site-packages (from tensorflow) (1.12.1)\n",
      "Requirement already satisfied: protobuf<3.20,>=3.9.2 in c:\\users\\desineni\\anaconda3\\lib\\site-packages (from tensorflow) (3.19.1)\n",
      "Requirement already satisfied: grpcio<2.0,>=1.24.3 in c:\\users\\desineni\\anaconda3\\lib\\site-packages (from tensorflow) (1.42.0)\n",
      "Requirement already satisfied: tensorboard<2.11,>=2.10 in c:\\users\\desineni\\anaconda3\\lib\\site-packages (from tensorflow) (2.10.1)\n",
      "Requirement already satisfied: six>=1.12.0 in c:\\users\\desineni\\anaconda3\\lib\\site-packages (from tensorflow) (1.16.0)\n",
      "Requirement already satisfied: opt-einsum>=2.3.2 in c:\\users\\desineni\\anaconda3\\lib\\site-packages (from tensorflow) (3.3.0)\n",
      "Requirement already satisfied: tensorflow-io-gcs-filesystem>=0.23.1 in c:\\users\\desineni\\anaconda3\\lib\\site-packages (from tensorflow) (0.27.0)\n",
      "Requirement already satisfied: termcolor>=1.1.0 in c:\\users\\desineni\\anaconda3\\lib\\site-packages (from tensorflow) (2.0.1)\n",
      "Requirement already satisfied: packaging in c:\\users\\desineni\\anaconda3\\lib\\site-packages (from tensorflow) (21.3)\n",
      "Requirement already satisfied: setuptools in c:\\users\\desineni\\anaconda3\\lib\\site-packages (from tensorflow) (61.2.0)\n",
      "Requirement already satisfied: h5py>=2.9.0 in c:\\users\\desineni\\anaconda3\\lib\\site-packages (from tensorflow) (3.6.0)\n",
      "Requirement already satisfied: absl-py>=1.0.0 in c:\\users\\desineni\\anaconda3\\lib\\site-packages (from tensorflow) (1.2.0)\n",
      "Requirement already satisfied: typing-extensions>=3.6.6 in c:\\users\\desineni\\anaconda3\\lib\\site-packages (from tensorflow) (4.1.1)\n",
      "Requirement already satisfied: libclang>=13.0.0 in c:\\users\\desineni\\anaconda3\\lib\\site-packages (from tensorflow) (14.0.6)\n",
      "Requirement already satisfied: tensorflow-estimator<2.11,>=2.10.0 in c:\\users\\desineni\\anaconda3\\lib\\site-packages (from tensorflow) (2.10.0)\n",
      "Requirement already satisfied: flatbuffers>=2.0 in c:\\users\\desineni\\anaconda3\\lib\\site-packages (from tensorflow) (22.9.24)\n",
      "Requirement already satisfied: wheel<1.0,>=0.23.0 in c:\\users\\desineni\\anaconda3\\lib\\site-packages (from astunparse>=1.6.0->tensorflow) (0.37.1)\n",
      "Requirement already satisfied: markdown>=2.6.8 in c:\\users\\desineni\\anaconda3\\lib\\site-packages (from tensorboard<2.11,>=2.10->tensorflow) (3.3.4)\n",
      "Requirement already satisfied: werkzeug>=1.0.1 in c:\\users\\desineni\\anaconda3\\lib\\site-packages (from tensorboard<2.11,>=2.10->tensorflow) (2.0.3)\n",
      "Requirement already satisfied: google-auth-oauthlib<0.5,>=0.4.1 in c:\\users\\desineni\\anaconda3\\lib\\site-packages (from tensorboard<2.11,>=2.10->tensorflow) (0.4.6)\n",
      "Requirement already satisfied: requests<3,>=2.21.0 in c:\\users\\desineni\\anaconda3\\lib\\site-packages (from tensorboard<2.11,>=2.10->tensorflow) (2.27.1)\n",
      "Requirement already satisfied: google-auth<3,>=1.6.3 in c:\\users\\desineni\\anaconda3\\lib\\site-packages (from tensorboard<2.11,>=2.10->tensorflow) (1.33.0)\n",
      "Requirement already satisfied: tensorboard-data-server<0.7.0,>=0.6.0 in c:\\users\\desineni\\anaconda3\\lib\\site-packages (from tensorboard<2.11,>=2.10->tensorflow) (0.6.1)\n",
      "Requirement already satisfied: tensorboard-plugin-wit>=1.6.0 in c:\\users\\desineni\\anaconda3\\lib\\site-packages (from tensorboard<2.11,>=2.10->tensorflow) (1.8.1)\n",
      "Requirement already satisfied: pyasn1-modules>=0.2.1 in c:\\users\\desineni\\anaconda3\\lib\\site-packages (from google-auth<3,>=1.6.3->tensorboard<2.11,>=2.10->tensorflow) (0.2.8)\n",
      "Requirement already satisfied: rsa<5,>=3.1.4 in c:\\users\\desineni\\anaconda3\\lib\\site-packages (from google-auth<3,>=1.6.3->tensorboard<2.11,>=2.10->tensorflow) (4.7.2)\n",
      "Requirement already satisfied: cachetools<5.0,>=2.0.0 in c:\\users\\desineni\\anaconda3\\lib\\site-packages (from google-auth<3,>=1.6.3->tensorboard<2.11,>=2.10->tensorflow) (4.2.2)\n",
      "Requirement already satisfied: requests-oauthlib>=0.7.0 in c:\\users\\desineni\\anaconda3\\lib\\site-packages (from google-auth-oauthlib<0.5,>=0.4.1->tensorboard<2.11,>=2.10->tensorflow) (1.3.1)\n",
      "Requirement already satisfied: pyasn1<0.5.0,>=0.4.6 in c:\\users\\desineni\\anaconda3\\lib\\site-packages (from pyasn1-modules>=0.2.1->google-auth<3,>=1.6.3->tensorboard<2.11,>=2.10->tensorflow) (0.4.8)\n",
      "Requirement already satisfied: charset-normalizer~=2.0.0 in c:\\users\\desineni\\anaconda3\\lib\\site-packages (from requests<3,>=2.21.0->tensorboard<2.11,>=2.10->tensorflow) (2.0.4)\n",
      "Requirement already satisfied: certifi>=2017.4.17 in c:\\users\\desineni\\anaconda3\\lib\\site-packages (from requests<3,>=2.21.0->tensorboard<2.11,>=2.10->tensorflow) (2021.10.8)\n",
      "Requirement already satisfied: urllib3<1.27,>=1.21.1 in c:\\users\\desineni\\anaconda3\\lib\\site-packages (from requests<3,>=2.21.0->tensorboard<2.11,>=2.10->tensorflow) (1.26.9)\n",
      "Requirement already satisfied: idna<4,>=2.5 in c:\\users\\desineni\\anaconda3\\lib\\site-packages (from requests<3,>=2.21.0->tensorboard<2.11,>=2.10->tensorflow) (3.3)\n",
      "Requirement already satisfied: oauthlib>=3.0.0 in c:\\users\\desineni\\anaconda3\\lib\\site-packages (from requests-oauthlib>=0.7.0->google-auth-oauthlib<0.5,>=0.4.1->tensorboard<2.11,>=2.10->tensorflow) (3.2.1)\n",
      "Requirement already satisfied: pyparsing!=3.0.5,>=2.0.2 in c:\\users\\desineni\\anaconda3\\lib\\site-packages (from packaging->tensorflow) (3.0.4)\n"
     ]
    }
   ],
   "source": [
    "!pip install tensorflow"
   ]
  },
  {
   "cell_type": "code",
   "execution_count": 2,
   "id": "c5f45603",
   "metadata": {},
   "outputs": [
    {
     "name": "stdout",
     "output_type": "stream",
     "text": [
      "Requirement already satisfied: keras in c:\\users\\desineni\\anaconda3\\lib\\site-packages (2.10.0)\n"
     ]
    }
   ],
   "source": [
    "!pip install keras"
   ]
  },
  {
   "cell_type": "code",
   "execution_count": 46,
   "id": "a3ec66d3",
   "metadata": {},
   "outputs": [],
   "source": [
    "from tensorflow.keras.datasets import imdb\n",
    "(train_data, train_labels), (test_data, test_labels) = imdb.load_data(\n",
    "    num_words=10000)"
   ]
  },
  {
   "cell_type": "code",
   "execution_count": 47,
   "id": "03ee7710",
   "metadata": {},
   "outputs": [
    {
     "data": {
      "text/plain": [
       "[1,\n",
       " 14,\n",
       " 22,\n",
       " 16,\n",
       " 43,\n",
       " 530,\n",
       " 973,\n",
       " 1622,\n",
       " 1385,\n",
       " 65,\n",
       " 458,\n",
       " 4468,\n",
       " 66,\n",
       " 3941,\n",
       " 4,\n",
       " 173,\n",
       " 36,\n",
       " 256,\n",
       " 5,\n",
       " 25,\n",
       " 100,\n",
       " 43,\n",
       " 838,\n",
       " 112,\n",
       " 50,\n",
       " 670,\n",
       " 2,\n",
       " 9,\n",
       " 35,\n",
       " 480,\n",
       " 284,\n",
       " 5,\n",
       " 150,\n",
       " 4,\n",
       " 172,\n",
       " 112,\n",
       " 167,\n",
       " 2,\n",
       " 336,\n",
       " 385,\n",
       " 39,\n",
       " 4,\n",
       " 172,\n",
       " 4536,\n",
       " 1111,\n",
       " 17,\n",
       " 546,\n",
       " 38,\n",
       " 13,\n",
       " 447,\n",
       " 4,\n",
       " 192,\n",
       " 50,\n",
       " 16,\n",
       " 6,\n",
       " 147,\n",
       " 2025,\n",
       " 19,\n",
       " 14,\n",
       " 22,\n",
       " 4,\n",
       " 1920,\n",
       " 4613,\n",
       " 469,\n",
       " 4,\n",
       " 22,\n",
       " 71,\n",
       " 87,\n",
       " 12,\n",
       " 16,\n",
       " 43,\n",
       " 530,\n",
       " 38,\n",
       " 76,\n",
       " 15,\n",
       " 13,\n",
       " 1247,\n",
       " 4,\n",
       " 22,\n",
       " 17,\n",
       " 515,\n",
       " 17,\n",
       " 12,\n",
       " 16,\n",
       " 626,\n",
       " 18,\n",
       " 2,\n",
       " 5,\n",
       " 62,\n",
       " 386,\n",
       " 12,\n",
       " 8,\n",
       " 316,\n",
       " 8,\n",
       " 106,\n",
       " 5,\n",
       " 4,\n",
       " 2223,\n",
       " 5244,\n",
       " 16,\n",
       " 480,\n",
       " 66,\n",
       " 3785,\n",
       " 33,\n",
       " 4,\n",
       " 130,\n",
       " 12,\n",
       " 16,\n",
       " 38,\n",
       " 619,\n",
       " 5,\n",
       " 25,\n",
       " 124,\n",
       " 51,\n",
       " 36,\n",
       " 135,\n",
       " 48,\n",
       " 25,\n",
       " 1415,\n",
       " 33,\n",
       " 6,\n",
       " 22,\n",
       " 12,\n",
       " 215,\n",
       " 28,\n",
       " 77,\n",
       " 52,\n",
       " 5,\n",
       " 14,\n",
       " 407,\n",
       " 16,\n",
       " 82,\n",
       " 2,\n",
       " 8,\n",
       " 4,\n",
       " 107,\n",
       " 117,\n",
       " 5952,\n",
       " 15,\n",
       " 256,\n",
       " 4,\n",
       " 2,\n",
       " 7,\n",
       " 3766,\n",
       " 5,\n",
       " 723,\n",
       " 36,\n",
       " 71,\n",
       " 43,\n",
       " 530,\n",
       " 476,\n",
       " 26,\n",
       " 400,\n",
       " 317,\n",
       " 46,\n",
       " 7,\n",
       " 4,\n",
       " 2,\n",
       " 1029,\n",
       " 13,\n",
       " 104,\n",
       " 88,\n",
       " 4,\n",
       " 381,\n",
       " 15,\n",
       " 297,\n",
       " 98,\n",
       " 32,\n",
       " 2071,\n",
       " 56,\n",
       " 26,\n",
       " 141,\n",
       " 6,\n",
       " 194,\n",
       " 7486,\n",
       " 18,\n",
       " 4,\n",
       " 226,\n",
       " 22,\n",
       " 21,\n",
       " 134,\n",
       " 476,\n",
       " 26,\n",
       " 480,\n",
       " 5,\n",
       " 144,\n",
       " 30,\n",
       " 5535,\n",
       " 18,\n",
       " 51,\n",
       " 36,\n",
       " 28,\n",
       " 224,\n",
       " 92,\n",
       " 25,\n",
       " 104,\n",
       " 4,\n",
       " 226,\n",
       " 65,\n",
       " 16,\n",
       " 38,\n",
       " 1334,\n",
       " 88,\n",
       " 12,\n",
       " 16,\n",
       " 283,\n",
       " 5,\n",
       " 16,\n",
       " 4472,\n",
       " 113,\n",
       " 103,\n",
       " 32,\n",
       " 15,\n",
       " 16,\n",
       " 5345,\n",
       " 19,\n",
       " 178,\n",
       " 32]"
      ]
     },
     "execution_count": 47,
     "metadata": {},
     "output_type": "execute_result"
    }
   ],
   "source": [
    "train_data[0]"
   ]
  },
  {
   "cell_type": "code",
   "execution_count": 48,
   "id": "347903fc",
   "metadata": {},
   "outputs": [
    {
     "data": {
      "text/plain": [
       "1"
      ]
     },
     "execution_count": 48,
     "metadata": {},
     "output_type": "execute_result"
    }
   ],
   "source": [
    "train_labels[0]"
   ]
  },
  {
   "cell_type": "code",
   "execution_count": 49,
   "id": "311e26d7",
   "metadata": {},
   "outputs": [
    {
     "data": {
      "text/plain": [
       "9999"
      ]
     },
     "execution_count": 49,
     "metadata": {},
     "output_type": "execute_result"
    }
   ],
   "source": [
    "max([max(sequence) for sequence in train_data])"
   ]
  },
  {
   "cell_type": "code",
   "execution_count": 50,
   "id": "0d575a97",
   "metadata": {},
   "outputs": [],
   "source": [
    "word_index = imdb.get_word_index()\n",
    "reverse_word_index = dict(\n",
    "    [(value, key) for (key, value) in word_index.items()])\n",
    "decoded_review = \" \".join(\n",
    "    [reverse_word_index.get(i - 3, \"?\") for i in train_data[0]])"
   ]
  },
  {
   "cell_type": "code",
   "execution_count": 51,
   "id": "58730458",
   "metadata": {},
   "outputs": [],
   "source": [
    "import numpy as np\n",
    "def vectorize_sequences(sequences, dimension=10000):\n",
    "    results = np.zeros((len(sequences), dimension))\n",
    "    for i, sequence in enumerate(sequences):\n",
    "        for j in sequence:\n",
    "            results[i, j] = 1.\n",
    "    return results\n",
    "x_train = vectorize_sequences(train_data)\n",
    "x_test = vectorize_sequences(test_data)"
   ]
  },
  {
   "cell_type": "code",
   "execution_count": 52,
   "id": "4c06c1a0",
   "metadata": {},
   "outputs": [
    {
     "data": {
      "text/plain": [
       "array([0., 1., 1., ..., 0., 0., 0.])"
      ]
     },
     "execution_count": 52,
     "metadata": {},
     "output_type": "execute_result"
    }
   ],
   "source": [
    "x_train[0]"
   ]
  },
  {
   "cell_type": "code",
   "execution_count": 53,
   "id": "e6e61cc1",
   "metadata": {},
   "outputs": [],
   "source": [
    "y_train = np.asarray(train_labels).astype(\"float32\")\n",
    "y_test = np.asarray(test_labels).astype(\"float32\")"
   ]
  },
  {
   "cell_type": "code",
   "execution_count": 54,
   "id": "ef68dc57",
   "metadata": {},
   "outputs": [],
   "source": [
    "x_val = x_train[:10000]\n",
    "partial_x_train = x_train[10000:]\n",
    "y_val = y_train[:10000]\n",
    "partial_y_train = y_train[10000:]"
   ]
  },
  {
   "cell_type": "markdown",
   "id": "362e7d93",
   "metadata": {},
   "source": [
    "#### Step 1 :\n",
    "\n",
    "1. Sequential Three layered approach  \n",
    "2. Replaced relu with tanh\n",
    "3. optimizers changed to adam and loss to mse and metrics == accuracy"
   ]
  },
  {
   "cell_type": "code",
   "execution_count": 70,
   "id": "193b36da",
   "metadata": {},
   "outputs": [],
   "source": [
    "from tensorflow import keras\n",
    "from tensorflow.keras import layers\n",
    "from tensorflow.keras.layers import Dense\n",
    "\n",
    "model = keras.Sequential()\n",
    "model.add(Dense(16, activation=\"tanh\"))\n",
    "model.add(Dense(16, activation=\"tanh\"))\n",
    "model.add(Dense(1, activation=\"sigmoid\"))\n",
    "\n",
    "\n",
    "model.compile(optimizer=\"adam\",\n",
    "              loss=\"mean_squared_error\",\n",
    "              metrics=[\"accuracy\"])"
   ]
  },
  {
   "cell_type": "code",
   "execution_count": 71,
   "id": "f921c90b",
   "metadata": {},
   "outputs": [
    {
     "name": "stdout",
     "output_type": "stream",
     "text": [
      "Epoch 1/20\n",
      "30/30 [==============================] - 1s 17ms/step - loss: 0.1667 - accuracy: 0.7984 - val_loss: 0.1114 - val_accuracy: 0.8654\n",
      "Epoch 2/20\n",
      "30/30 [==============================] - 0s 13ms/step - loss: 0.0778 - accuracy: 0.9121 - val_loss: 0.0865 - val_accuracy: 0.8872\n",
      "Epoch 3/20\n",
      "30/30 [==============================] - 0s 11ms/step - loss: 0.0509 - accuracy: 0.9445 - val_loss: 0.0836 - val_accuracy: 0.8872\n",
      "Epoch 4/20\n",
      "30/30 [==============================] - 0s 11ms/step - loss: 0.0360 - accuracy: 0.9643 - val_loss: 0.0845 - val_accuracy: 0.8857\n",
      "Epoch 5/20\n",
      "30/30 [==============================] - 0s 12ms/step - loss: 0.0264 - accuracy: 0.9769 - val_loss: 0.0870 - val_accuracy: 0.8826\n",
      "Epoch 6/20\n",
      "30/30 [==============================] - 0s 11ms/step - loss: 0.0197 - accuracy: 0.9847 - val_loss: 0.0909 - val_accuracy: 0.8791\n",
      "Epoch 7/20\n",
      "30/30 [==============================] - 0s 11ms/step - loss: 0.0154 - accuracy: 0.9881 - val_loss: 0.0928 - val_accuracy: 0.8768\n",
      "Epoch 8/20\n",
      "30/30 [==============================] - 0s 10ms/step - loss: 0.0119 - accuracy: 0.9914 - val_loss: 0.0957 - val_accuracy: 0.8748\n",
      "Epoch 9/20\n",
      "30/30 [==============================] - 0s 11ms/step - loss: 0.0096 - accuracy: 0.9929 - val_loss: 0.0977 - val_accuracy: 0.8747\n",
      "Epoch 10/20\n",
      "30/30 [==============================] - 0s 11ms/step - loss: 0.0081 - accuracy: 0.9941 - val_loss: 0.1000 - val_accuracy: 0.8730\n",
      "Epoch 11/20\n",
      "30/30 [==============================] - 0s 11ms/step - loss: 0.0069 - accuracy: 0.9949 - val_loss: 0.1018 - val_accuracy: 0.8709\n",
      "Epoch 12/20\n",
      "30/30 [==============================] - 0s 12ms/step - loss: 0.0060 - accuracy: 0.9954 - val_loss: 0.1032 - val_accuracy: 0.8690\n",
      "Epoch 13/20\n",
      "30/30 [==============================] - 0s 13ms/step - loss: 0.0055 - accuracy: 0.9956 - val_loss: 0.1044 - val_accuracy: 0.8688\n",
      "Epoch 14/20\n",
      "30/30 [==============================] - 0s 12ms/step - loss: 0.0052 - accuracy: 0.9957 - val_loss: 0.1050 - val_accuracy: 0.8700\n",
      "Epoch 15/20\n",
      "30/30 [==============================] - 0s 12ms/step - loss: 0.0049 - accuracy: 0.9959 - val_loss: 0.1058 - val_accuracy: 0.8703\n",
      "Epoch 16/20\n",
      "30/30 [==============================] - 0s 13ms/step - loss: 0.0046 - accuracy: 0.9959 - val_loss: 0.1066 - val_accuracy: 0.8698\n",
      "Epoch 17/20\n",
      "30/30 [==============================] - 0s 12ms/step - loss: 0.0044 - accuracy: 0.9961 - val_loss: 0.1080 - val_accuracy: 0.8675\n",
      "Epoch 18/20\n",
      "30/30 [==============================] - 0s 12ms/step - loss: 0.0043 - accuracy: 0.9961 - val_loss: 0.1080 - val_accuracy: 0.8677\n",
      "Epoch 19/20\n",
      "30/30 [==============================] - 0s 12ms/step - loss: 0.0042 - accuracy: 0.9962 - val_loss: 0.1083 - val_accuracy: 0.8679\n",
      "Epoch 20/20\n",
      "30/30 [==============================] - 0s 12ms/step - loss: 0.0041 - accuracy: 0.9962 - val_loss: 0.1089 - val_accuracy: 0.8670\n"
     ]
    }
   ],
   "source": [
    "history = model.fit(partial_x_train,\n",
    "                    partial_y_train,\n",
    "                    epochs=20,\n",
    "                    batch_size=512,\n",
    "                    validation_data=(x_val, y_val))"
   ]
  },
  {
   "cell_type": "code",
   "execution_count": 57,
   "id": "f0219db4",
   "metadata": {},
   "outputs": [
    {
     "data": {
      "image/png": "[encoded data removed]",
      "text/plain": [
       "<Figure size 432x288 with 1 Axes>"
      ]
     },
     "metadata": {
      "needs_background": "light"
     },
     "output_type": "display_data"
    }
   ],
   "source": [
    "plt.clf()\n",
    "acc = history_dict[\"accuracy\"]\n",
    "val_acc = history_dict[\"val_accuracy\"]\n",
    "plt.plot(epochs, acc, \"bo\", label=\"Training acc\")\n",
    "plt.plot(epochs, val_acc, \"b\", label=\"Validation acc\")\n",
    "plt.title(\"Training and validation accuracy\")\n",
    "plt.xlabel(\"Epochs\")\n",
    "plt.ylabel(\"Accuracy\")\n",
    "plt.legend()\n",
    "plt.show()"
   ]
  },
  {
   "cell_type": "code",
   "execution_count": 58,
   "id": "3ee87641",
   "metadata": {},
   "outputs": [
    {
     "name": "stdout",
     "output_type": "stream",
     "text": [
      "Epoch 1/30\n",
      "30/30 [==============================] - 1s 27ms/step - loss: 0.1577 - accuracy: 0.7748 - val_loss: 0.0918 - val_accuracy: 0.8819\n",
      "Epoch 2/30\n",
      "30/30 [==============================] - 1s 19ms/step - loss: 0.0722 - accuracy: 0.9091 - val_loss: 0.0908 - val_accuracy: 0.8830\n",
      "Epoch 3/30\n",
      "30/30 [==============================] - 1s 19ms/step - loss: 0.0548 - accuracy: 0.9350 - val_loss: 0.0928 - val_accuracy: 0.8817\n",
      "Epoch 4/30\n",
      "30/30 [==============================] - 1s 19ms/step - loss: 0.0436 - accuracy: 0.9515 - val_loss: 0.0960 - val_accuracy: 0.8826\n",
      "Epoch 5/30\n",
      "30/30 [==============================] - 1s 19ms/step - loss: 0.0363 - accuracy: 0.9612 - val_loss: 0.1040 - val_accuracy: 0.8761\n",
      "Epoch 6/30\n",
      "30/30 [==============================] - 1s 22ms/step - loss: 0.0312 - accuracy: 0.9681 - val_loss: 0.1076 - val_accuracy: 0.8735\n",
      "Epoch 7/30\n",
      "30/30 [==============================] - 1s 19ms/step - loss: 0.0292 - accuracy: 0.9705 - val_loss: 0.1097 - val_accuracy: 0.8742\n",
      "Epoch 8/30\n",
      "30/30 [==============================] - 1s 21ms/step - loss: 0.0266 - accuracy: 0.9746 - val_loss: 0.1133 - val_accuracy: 0.8716\n",
      "Epoch 9/30\n",
      "30/30 [==============================] - 1s 22ms/step - loss: 0.0236 - accuracy: 0.9785 - val_loss: 0.1175 - val_accuracy: 0.8707\n",
      "Epoch 10/30\n",
      "30/30 [==============================] - 1s 21ms/step - loss: 0.0240 - accuracy: 0.9770 - val_loss: 0.1226 - val_accuracy: 0.8636\n",
      "Epoch 11/30\n",
      "30/30 [==============================] - 1s 21ms/step - loss: 0.0219 - accuracy: 0.9808 - val_loss: 0.1216 - val_accuracy: 0.8671\n",
      "Epoch 12/30\n",
      "30/30 [==============================] - 1s 19ms/step - loss: 0.0207 - accuracy: 0.9811 - val_loss: 0.1228 - val_accuracy: 0.8658\n",
      "Epoch 13/30\n",
      "30/30 [==============================] - 1s 21ms/step - loss: 0.0213 - accuracy: 0.9811 - val_loss: 0.1243 - val_accuracy: 0.8650\n",
      "Epoch 14/30\n",
      "30/30 [==============================] - 1s 20ms/step - loss: 0.0208 - accuracy: 0.9816 - val_loss: 0.1250 - val_accuracy: 0.8662\n",
      "Epoch 15/30\n",
      "30/30 [==============================] - 1s 19ms/step - loss: 0.0201 - accuracy: 0.9822 - val_loss: 0.1251 - val_accuracy: 0.8662\n",
      "Epoch 16/30\n",
      "30/30 [==============================] - 1s 19ms/step - loss: 0.0197 - accuracy: 0.9831 - val_loss: 0.1247 - val_accuracy: 0.8675\n",
      "Epoch 17/30\n",
      "30/30 [==============================] - 1s 19ms/step - loss: 0.0184 - accuracy: 0.9848 - val_loss: 0.1240 - val_accuracy: 0.8678\n",
      "Epoch 18/30\n",
      "30/30 [==============================] - 1s 20ms/step - loss: 0.0174 - accuracy: 0.9863 - val_loss: 0.1246 - val_accuracy: 0.8678\n",
      "Epoch 19/30\n",
      "30/30 [==============================] - 1s 19ms/step - loss: 0.0173 - accuracy: 0.9861 - val_loss: 0.1252 - val_accuracy: 0.8679\n",
      "Epoch 20/30\n",
      "30/30 [==============================] - 1s 19ms/step - loss: 0.0174 - accuracy: 0.9859 - val_loss: 0.1291 - val_accuracy: 0.8637\n",
      "Epoch 21/30\n",
      "30/30 [==============================] - 1s 19ms/step - loss: 0.0175 - accuracy: 0.9861 - val_loss: 0.1287 - val_accuracy: 0.8639\n",
      "Epoch 22/30\n",
      "30/30 [==============================] - 1s 19ms/step - loss: 0.0160 - accuracy: 0.9880 - val_loss: 0.1284 - val_accuracy: 0.8654\n",
      "Epoch 23/30\n",
      "30/30 [==============================] - 1s 20ms/step - loss: 0.0157 - accuracy: 0.9882 - val_loss: 0.1290 - val_accuracy: 0.8651\n",
      "Epoch 24/30\n",
      "30/30 [==============================] - 1s 19ms/step - loss: 0.0151 - accuracy: 0.9892 - val_loss: 0.1315 - val_accuracy: 0.8634\n",
      "Epoch 25/30\n",
      "30/30 [==============================] - 1s 20ms/step - loss: 0.0157 - accuracy: 0.9882 - val_loss: 0.1313 - val_accuracy: 0.8633\n",
      "Epoch 26/30\n",
      "30/30 [==============================] - 1s 25ms/step - loss: 0.0156 - accuracy: 0.9882 - val_loss: 0.1315 - val_accuracy: 0.8621\n",
      "Epoch 27/30\n",
      "30/30 [==============================] - 1s 24ms/step - loss: 0.0156 - accuracy: 0.9884 - val_loss: 0.1307 - val_accuracy: 0.8639\n",
      "Epoch 28/30\n",
      "30/30 [==============================] - 1s 25ms/step - loss: 0.0155 - accuracy: 0.9883 - val_loss: 0.1328 - val_accuracy: 0.8621\n",
      "Epoch 29/30\n",
      "30/30 [==============================] - 1s 28ms/step - loss: 0.0160 - accuracy: 0.9881 - val_loss: 0.1368 - val_accuracy: 0.8575\n",
      "Epoch 30/30\n",
      "30/30 [==============================] - 1s 26ms/step - loss: 0.0162 - accuracy: 0.9872 - val_loss: 0.1343 - val_accuracy: 0.8613\n"
     ]
    }
   ],
   "source": [
    "# Step 2 \n",
    "\n",
    "### implement dropouts and Regularizers\n",
    "### check performance by changing the dense layers to 64 hidden units\n",
    "\n",
    "from tensorflow.keras.layers import Dropout\n",
    "from tensorflow.keras import regularizers\n",
    "\n",
    "\n",
    "model = keras.Sequential()\n",
    "model.add(Dense(64, activation=\"tanh\"))\n",
    "model.add(Dropout(0.5))\n",
    "model.add(Dense(64, activation=\"tanh\"))\n",
    "model.add(Dropout(0.5))\n",
    "model.add(Dense(64, activation=\"tanh\"))\n",
    "model.add(Dense(1, activation=\"sigmoid\",activity_regularizer=regularizers.L2(0.01)))\n",
    "\n",
    "\n",
    "model.compile(optimizer=\"adam\",\n",
    "              loss=\"mean_squared_error\",\n",
    "              metrics=[\"accuracy\"])\n",
    "\n",
    "history = model.fit(partial_x_train,\n",
    "                    partial_y_train,\n",
    "                    epochs=30,\n",
    "                    batch_size=512,\n",
    "                    validation_data=(x_val, y_val))"
   ]
  },
  {
   "cell_type": "code",
   "execution_count": 59,
   "id": "b37ddd1b",
   "metadata": {},
   "outputs": [
    {
     "data": {
      "text/plain": [
       "dict_keys(['loss', 'accuracy', 'val_loss', 'val_accuracy'])"
      ]
     },
     "execution_count": 59,
     "metadata": {},
     "output_type": "execute_result"
    }
   ],
   "source": [
    "history_dict = history.history\n",
    "history_dict.keys()"
   ]
  },
  {
   "cell_type": "code",
   "execution_count": 60,
   "id": "fa1c236b",
   "metadata": {},
   "outputs": [
    {
     "data": {
      "image/png": "[encoded data removed]",
      "text/plain": [
       "<Figure size 432x288 with 1 Axes>"
      ]
     },
     "metadata": {
      "needs_background": "light"
     },
     "output_type": "display_data"
    }
   ],
   "source": [
    "import matplotlib.pyplot as plt\n",
    "history_dict = history.history\n",
    "loss_values = history_dict[\"loss\"]\n",
    "val_loss_values = history_dict[\"val_loss\"]\n",
    "epochs = range(1, len(loss_values) + 1)\n",
    "plt.plot(epochs, loss_values, \"bo\", label=\"Training loss\")\n",
    "plt.plot(epochs, val_loss_values, \"b\", label=\"Validation loss\")\n",
    "plt.title(\"Training and validation loss\")\n",
    "plt.xlabel(\"Epochs\")\n",
    "plt.ylabel(\"Loss\")\n",
    "plt.legend()\n",
    "plt.show()"
   ]
  },
  {
   "cell_type": "code",
   "execution_count": 61,
   "id": "0752c06c",
   "metadata": {},
   "outputs": [
    {
     "data": {
      "image/png": "[encoded data removed]",
      "text/plain": [
       "<Figure size 432x288 with 1 Axes>"
      ]
     },
     "metadata": {
      "needs_background": "light"
     },
     "output_type": "display_data"
    }
   ],
   "source": [
    "plt.clf()\n",
    "acc = history_dict[\"accuracy\"]\n",
    "val_acc = history_dict[\"val_accuracy\"]\n",
    "plt.plot(epochs, acc, \"bo\", label=\"Training acc\")\n",
    "plt.plot(epochs, val_acc, \"b\", label=\"Validation acc\")\n",
    "plt.title(\"Training and validation accuracy\")\n",
    "plt.xlabel(\"Epochs\")\n",
    "plt.ylabel(\"Accuracy\")\n",
    "plt.legend()\n",
    "plt.show()"
   ]
  },
  {
   "cell_type": "code",
   "execution_count": 63,
   "id": "ac0382d2",
   "metadata": {},
   "outputs": [
    {
     "name": "stdout",
     "output_type": "stream",
     "text": [
      "Epoch 1/30\n",
      "30/30 [==============================] - 2s 55ms/step - loss: 0.1747 - accuracy: 0.7810 - val_loss: 0.1038 - val_accuracy: 0.8846\n",
      "Epoch 2/30\n",
      "30/30 [==============================] - 1s 38ms/step - loss: 0.0845 - accuracy: 0.9148 - val_loss: 0.0954 - val_accuracy: 0.8852\n",
      "Epoch 3/30\n",
      "30/30 [==============================] - 1s 30ms/step - loss: 0.0608 - accuracy: 0.9402 - val_loss: 0.0982 - val_accuracy: 0.8802\n",
      "Epoch 4/30\n",
      "30/30 [==============================] - 1s 29ms/step - loss: 0.0486 - accuracy: 0.9518 - val_loss: 0.1003 - val_accuracy: 0.8784\n",
      "Epoch 5/30\n",
      "30/30 [==============================] - 1s 27ms/step - loss: 0.0392 - accuracy: 0.9609 - val_loss: 0.1071 - val_accuracy: 0.8704\n",
      "Epoch 6/30\n",
      "30/30 [==============================] - 1s 29ms/step - loss: 0.0324 - accuracy: 0.9669 - val_loss: 0.1082 - val_accuracy: 0.8734\n",
      "Epoch 7/30\n",
      "30/30 [==============================] - 1s 25ms/step - loss: 0.0298 - accuracy: 0.9705 - val_loss: 0.1152 - val_accuracy: 0.8698\n",
      "Epoch 8/30\n",
      "30/30 [==============================] - 1s 23ms/step - loss: 0.0289 - accuracy: 0.9700 - val_loss: 0.1170 - val_accuracy: 0.8676\n",
      "Epoch 9/30\n",
      "30/30 [==============================] - 1s 23ms/step - loss: 0.0264 - accuracy: 0.9731 - val_loss: 0.1189 - val_accuracy: 0.8662\n",
      "Epoch 10/30\n",
      "30/30 [==============================] - 1s 25ms/step - loss: 0.0244 - accuracy: 0.9767 - val_loss: 0.1202 - val_accuracy: 0.8651\n",
      "Epoch 11/30\n",
      "30/30 [==============================] - 1s 27ms/step - loss: 0.0227 - accuracy: 0.9779 - val_loss: 0.1206 - val_accuracy: 0.8658\n",
      "Epoch 12/30\n",
      "30/30 [==============================] - 1s 27ms/step - loss: 0.0230 - accuracy: 0.9770 - val_loss: 0.1227 - val_accuracy: 0.8639\n",
      "Epoch 13/30\n",
      "30/30 [==============================] - 1s 24ms/step - loss: 0.0203 - accuracy: 0.9796 - val_loss: 0.1233 - val_accuracy: 0.8657\n",
      "Epoch 14/30\n",
      "30/30 [==============================] - 1s 23ms/step - loss: 0.0203 - accuracy: 0.9803 - val_loss: 0.1236 - val_accuracy: 0.8647\n",
      "Epoch 15/30\n",
      "30/30 [==============================] - 1s 24ms/step - loss: 0.0185 - accuracy: 0.9815 - val_loss: 0.1249 - val_accuracy: 0.8624\n",
      "Epoch 16/30\n",
      "30/30 [==============================] - 1s 25ms/step - loss: 0.0175 - accuracy: 0.9833 - val_loss: 0.1262 - val_accuracy: 0.8629\n",
      "Epoch 17/30\n",
      "30/30 [==============================] - 1s 23ms/step - loss: 0.0200 - accuracy: 0.9797 - val_loss: 0.1269 - val_accuracy: 0.8621\n",
      "Epoch 18/30\n",
      "30/30 [==============================] - 1s 30ms/step - loss: 0.0185 - accuracy: 0.9816 - val_loss: 0.1289 - val_accuracy: 0.8619\n",
      "Epoch 19/30\n",
      "30/30 [==============================] - 1s 25ms/step - loss: 0.0171 - accuracy: 0.9831 - val_loss: 0.1315 - val_accuracy: 0.8596\n",
      "Epoch 20/30\n",
      "30/30 [==============================] - 1s 29ms/step - loss: 0.0179 - accuracy: 0.9821 - val_loss: 0.1267 - val_accuracy: 0.8653\n",
      "Epoch 21/30\n",
      "30/30 [==============================] - 1s 29ms/step - loss: 0.0180 - accuracy: 0.9814 - val_loss: 0.1276 - val_accuracy: 0.8630\n",
      "Epoch 22/30\n",
      "30/30 [==============================] - 1s 27ms/step - loss: 0.0172 - accuracy: 0.9829 - val_loss: 0.1267 - val_accuracy: 0.8626\n",
      "Epoch 23/30\n",
      "30/30 [==============================] - 1s 28ms/step - loss: 0.0178 - accuracy: 0.9824 - val_loss: 0.1299 - val_accuracy: 0.8597\n",
      "Epoch 24/30\n",
      "30/30 [==============================] - 1s 26ms/step - loss: 0.0156 - accuracy: 0.9848 - val_loss: 0.1355 - val_accuracy: 0.8565\n",
      "Epoch 25/30\n",
      "30/30 [==============================] - 1s 26ms/step - loss: 0.0158 - accuracy: 0.9844 - val_loss: 0.1280 - val_accuracy: 0.8626\n",
      "Epoch 26/30\n",
      "30/30 [==============================] - 1s 27ms/step - loss: 0.0156 - accuracy: 0.9853 - val_loss: 0.1274 - val_accuracy: 0.8643\n",
      "Epoch 27/30\n",
      "30/30 [==============================] - 1s 25ms/step - loss: 0.0144 - accuracy: 0.9859 - val_loss: 0.1335 - val_accuracy: 0.8560\n",
      "Epoch 28/30\n",
      "30/30 [==============================] - 1s 26ms/step - loss: 0.0160 - accuracy: 0.9848 - val_loss: 0.1302 - val_accuracy: 0.8616\n",
      "Epoch 29/30\n",
      "30/30 [==============================] - 1s 25ms/step - loss: 0.0155 - accuracy: 0.9850 - val_loss: 0.1302 - val_accuracy: 0.8624\n",
      "Epoch 30/30\n",
      "30/30 [==============================] - 1s 24ms/step - loss: 0.0161 - accuracy: 0.9835 - val_loss: 0.1317 - val_accuracy: 0.8612\n"
     ]
    }
   ],
   "source": [
    "from tensorflow.keras.layers import Dropout\n",
    "from tensorflow.keras import regularizers\n",
    "\n",
    "\n",
    "model = keras.Sequential()\n",
    "model.add(Dense(64, activation=\"tanh\"))\n",
    "model.add(Dropout(0.5))\n",
    "model.add(Dense(64, activation=\"tanh\"))\n",
    "model.add(Dense(64, activation=\"tanh\"))\n",
    "model.add(Dense(64, activation=\"tanh\",activity_regularizer=regularizers.L2(0.01)))\n",
    "model.add(Dropout(0.5))\n",
    "model.add(Dense(64, activation=\"tanh\"))\n",
    "model.add(Dense(64, activation=\"tanh\"))\n",
    "model.add(Dense(1, activation=\"sigmoid\"))\n",
    "\n",
    "\n",
    "model.compile(optimizer=\"adam\",\n",
    "              loss=\"mean_squared_error\",\n",
    "              metrics=[\"accuracy\"])\n",
    "\n",
    "history = model.fit(partial_x_train,\n",
    "                    partial_y_train,\n",
    "                    epochs=30,\n",
    "                    batch_size=512,\n",
    "                    validation_data=(x_val, y_val))"
   ]
  },
  {
   "cell_type": "code",
   "execution_count": 44,
   "id": "9c4a54bf",
   "metadata": {},
   "outputs": [
    {
     "data": {
      "image/png": "[encoded data removed]",
      "text/plain": [
       "<Figure size 432x288 with 1 Axes>"
      ]
     },
     "metadata": {
      "needs_background": "light"
     },
     "output_type": "display_data"
    }
   ],
   "source": [
    "plt.clf()\n",
    "acc = history_dict[\"accuracy\"]\n",
    "val_acc = history_dict[\"val_accuracy\"]\n",
    "plt.plot(epochs, acc, \"bo\", label=\"Training acc\")\n",
    "plt.plot(epochs, val_acc, \"b\", label=\"Validation acc\")\n",
    "plt.title(\"Training and validation accuracy\")\n",
    "plt.xlabel(\"Epochs\")\n",
    "plt.ylabel(\"Accuracy\")\n",
    "plt.legend()\n",
    "plt.show()"
   ]
  },
  {
   "cell_type": "markdown",
   "id": "bf176e77",
   "metadata": {},
   "source": [
    "#### Summary  \n",
    "Significance:\n",
    "My approach towards the problem, initially learned the importance of keras Sequential model which is stack of layers for building neural network.\n",
    "It contains the important imports like, layers, Dense, Dropouts and Regularizers required to design a neural network\n",
    "These are required imports\n",
    "\n",
    "\n",
    "from tensorflow import keras\n",
    "from tensorflow.keras import layers\n",
    "from tensorflow.keras.layers import Dense\n",
    "from tensorflow.keras.layers import Dropout\n",
    "from tensorflow.keras import regularizers\n",
    " \n",
    "•\tI implemented 2, 3 layered and 6 layered neural network with 16 ,64, 64 hidden neurons to check the performance.\n",
    "•\tOne important thing that I observed is no matter how many layers we stacked up, it will train and gives the almost same performance once it reaches the threshold.\n",
    "model = keras.Sequential()\n",
    "it follows the structure like input layer  hidden layers  output layer \n",
    "The above line initializes the Sequential model where we can build up stack of layers.\n",
    "model.add(Dense(64, activation=\"tanh\"))\n",
    "•\tThe above line signifies that we are adding a new hidden layer with 64 dense units using tanh activation function.\n",
    "•\tWhen I say 64 hidden units, we can assume that they are 64 neuron are being created in the layer to learn the data which is in form of vectors\n",
    "•\tActivation function is also called transfer function, if the output range of function is limited, just sigmoid squashed the value to 1 which is above to it. They are non linear functions.\n",
    "model.add(Dropout(0.5)) \n",
    "•\tThe importance of Dropout is useful when we have a scenario of overfitting. The above line says, hey please randomly dropout some of my neurons since it causes overfitting. When I say 0.5, that implies 50 percent of my neurons are dropped out.\n",
    "•\tI have tried using L1 and L2 regularizes but that does not cause much effect rather it diminishes performance. I think the model Is saturated and the best validation accuracy we can get a range of 86 or 87 percentage.\n",
    "•\tReplaced binary_crossentrophy with mean square error to check the performance metrics on the loss.\n",
    "•\tThe result is that validation loss has performed good. Initially when using binary_crossentrophy the validation loss is 0.5 but when using mse it reduces to 0.1.\n",
    "•\tRelu being the top among sigmoid and tanh function because of vanishing gradient problem. In this context tanh performs same as tanh.\n"
   ]
  },
  {
   "attachments": {
    "result.png": {
     "image/png": "[encoded data removed]"
    }
   },
   "cell_type": "markdown",
   "id": "c63b90f2",
   "metadata": {},
   "source": [
    "![result.png](attachment:result.png)"
   ]
  },
  {
   "cell_type": "code",
   "execution_count": null,
   "id": "8155fef0",
   "metadata": {},
   "outputs": [],
   "source": []
  }
 ],
 "metadata": {
  "kernelspec": {
   "display_name": "Python 3 (ipykernel)",
   "language": "python",
   "name": "python3"
  },
  "language_info": {
   "codemirror_mode": {
    "name": "ipython",
    "version": 3
   },
   "file_extension": ".py",
   "mimetype": "text/x-python",
   "name": "python",
   "nbconvert_exporter": "python",
   "pygments_lexer": "ipython3",
   "version": "3.9.12"
  }
 },
 "nbformat": 4,
 "nbformat_minor": 5
}
